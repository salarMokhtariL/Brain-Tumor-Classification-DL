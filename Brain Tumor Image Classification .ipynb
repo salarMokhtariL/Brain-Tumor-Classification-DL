{
 "cells": [
  {
   "cell_type": "markdown",
   "id": "7040ddda-895c-4679-8d4b-ea74248cda0b",
   "metadata": {},
   "source": [
    "# Brain Tumor MRI Image Classification \n",
    "> By Salar Mokhtari Laleh - 2024\n",
    "\n",
    "## What is brain tumor? \n",
    "A brain tumor is a collection, or mass, of abnormal cells in your brain. Your skull, which encloses your brain, is very rigid. Any growth inside such a restricted space can cause problems. Brain tumors can be cancerous (malignant) or noncancerous (benign). When benign or malignant tumors grow, they can cause the pressure inside your skull to increase. This can cause brain damage, and it can be life-threatening."
   ]
  },
  {
   "cell_type": "code",
   "execution_count": 1,
   "id": "10998b2e-815f-4089-8cb8-c56533b3b0d8",
   "metadata": {},
   "outputs": [],
   "source": [
    "import os\n",
    "import shutil\n",
    "import pandas as pd\n",
    "import numpy as np \n",
    "import matplotlib.pyplot as plt\n",
    "import matplotlib.image as mpimg\n",
    "import cv2\n",
    "import seaborn as sns\n",
    "\n",
    "%matplotlib inline\n",
    "plt.style.use('ggplot')"
   ]
  },
  {
   "cell_type": "markdown",
   "id": "0acaac6d-a6ac-4457-aabc-845f8e0e5006",
   "metadata": {},
   "source": [
    "# Import Datasets\n",
    "Link of Dataset: (https://www.kaggle.com/datasets/navoneel/brain-mri-images-for-brain-tumor-detection?resource=download)\n"
   ]
  },
  {
   "cell_type": "code",
   "execution_count": 2,
   "id": "c556b051-141d-4150-9fd4-26bbc8b1fd93",
   "metadata": {},
   "outputs": [],
   "source": [
    "# Unzip Dataset \n",
    "\n",
    "import zipfile\n",
    "\n",
    "dataset_zip = zipfile.ZipFile('Brain_Tumor_Datasets.zip')\n",
    "dataset_zip.extractall()"
   ]
  },
  {
   "cell_type": "code",
   "execution_count": null,
   "id": "09dbdeb2-4c94-4a75-a9db-f82adfd189e3",
   "metadata": {},
   "outputs": [],
   "source": []
  }
 ],
 "metadata": {
  "kernelspec": {
   "display_name": "Python 3 (ipykernel)",
   "language": "python",
   "name": "python3"
  },
  "language_info": {
   "codemirror_mode": {
    "name": "ipython",
    "version": 3
   },
   "file_extension": ".py",
   "mimetype": "text/x-python",
   "name": "python",
   "nbconvert_exporter": "python",
   "pygments_lexer": "ipython3",
   "version": "3.11.7"
  }
 },
 "nbformat": 4,
 "nbformat_minor": 5
}
